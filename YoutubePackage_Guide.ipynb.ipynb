{
 "cells": [
  {
   "cell_type": "markdown",
   "id": "8cbecfd2-ffe5-4043-92ba-3fa62a4676b4",
   "metadata": {},
   "source": [
    "# 📺 YoutubePackage: Embed & Explore YouTube Videos in Jupyter\n",
    "\n",
    "Welcome to the `YoutubePackage` 📦 — an easy-to-use Python package to:\n",
    "- Embed YouTube videos directly in Jupyter Notebooks\n",
    "- Fetch and preview metadata like video title, thumbnail, and author\n"
   ]
  },
  {
   "cell_type": "markdown",
   "id": "cabfd872-7751-405c-a5f5-048cb630aa80",
   "metadata": {},
   "source": [
    "# Installation (Editable Mode for Devs)\n",
    "In terminal (run this in your project root folder):                  \n",
    "\n",
    "\n",
    "\n",
    "\n",
    " pip install -e .\n"
   ]
  },
  {
   "cell_type": "markdown",
   "id": "e9443a86-ad70-4654-bd3a-b8c4886a22c8",
   "metadata": {},
   "source": [
    "# Import the Functions\n",
    "\n",
    "from Youtube_package.embed import embed_youtube\n",
    "\n",
    "\n",
    "from Youtube_package.metadata import fetch_video_metadata\n",
    "\n",
    "\n",
    "\n",
    "from Youtube_package.preview import preview_youtube\n"
   ]
  },
  {
   "cell_type": "markdown",
   "id": "1bcda2d3-2899-4350-8e26-8b5ea204fe74",
   "metadata": {},
   "source": [
    "#  Embed a YouTube Video in Notebook\n",
    "\n",
    "This will show an embedded player (works only in Jupyter Notebook)\n",
    "\n",
    "\n",
    "  \n",
    "embed_youtube(\"https://www.youtube.com/watch?v=dQw4w9WgXcQ\")\n"
   ]
  },
  {
   "cell_type": "markdown",
   "id": "62fba791-5e30-4d8a-8cf6-69a6cec56de3",
   "metadata": {},
   "source": [
    "# Fetch Video Metadata (title, author, thumbnail)\n",
    "metadata = fetch_video_metadata(\"https://www.youtube.com/watch?v=dQw4w9WgXcQ\")\n",
    "\n",
    "\n",
    "metadata\n"
   ]
  },
  {
   "cell_type": "markdown",
   "id": "9b098cf7-1b1f-4df6-aac7-d50ff9c22e4e",
   "metadata": {},
   "source": [
    "# Preview Video with Thumbnail & Title\n",
    "preview_youtube(\"https://www.youtube.com/watch?v=dQw4w9WgXcQ\")\n"
   ]
  },
  {
   "cell_type": "markdown",
   "id": "60b7cdfb-0316-4600-9e13-c4234367f78f",
   "metadata": {},
   "source": [
    "#  Error Handling Examples\n",
    "\n",
    "# Should raise ValueError (invalid YouTube link)\n",
    "try:\n",
    "\n",
    "    embed_youtube(\"https://example.com/invalid\")\n",
    "    \n",
    "except ValueError as e:\n",
    "\n",
    "    print(\"Error:\", e)\n"
   ]
  },
  {
   "cell_type": "markdown",
   "id": "ebe0fd72-907e-471b-9dc0-50e1832bdd19",
   "metadata": {},
   "source": [
    "#  What's Coming Next? (Future Scope)\n",
    "\n",
    "\n",
    "- Playlist embedding\n",
    "- Channel preview\n",
    "- Custom theme/styling for previews\n",
    "- Auto-fetch captions, duration, views\n"
   ]
  },
  {
   "cell_type": "code",
   "execution_count": null,
   "id": "b5acb59f-8f56-4421-9c66-1857d8529e7a",
   "metadata": {},
   "outputs": [],
   "source": []
  }
 ],
 "metadata": {
  "kernelspec": {
   "display_name": "Python (venv)",
   "language": "python",
   "name": "venv"
  },
  "language_info": {
   "codemirror_mode": {
    "name": "ipython",
    "version": 3
   },
   "file_extension": ".py",
   "mimetype": "text/x-python",
   "name": "python",
   "nbconvert_exporter": "python",
   "pygments_lexer": "ipython3",
   "version": "3.12.7"
  }
 },
 "nbformat": 4,
 "nbformat_minor": 5
}
